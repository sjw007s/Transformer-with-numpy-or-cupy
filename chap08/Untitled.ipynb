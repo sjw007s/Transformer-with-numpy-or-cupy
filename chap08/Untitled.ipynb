{
 "cells": [
  {
   "cell_type": "code",
   "execution_count": 13,
   "metadata": {},
   "outputs": [
    {
     "name": "stdout",
     "output_type": "stream",
     "text": [
      "[0 1 2 3 4 5 6 7]\n",
      "[[[0 1]\n",
      "  [2 3]]\n",
      "\n",
      " [[4 5]\n",
      "  [6 7]]]\n",
      "[[0 1 2 3]\n",
      " [4 5 6 7]]\n",
      "[array([[0, 1],\n",
      "       [2, 3]]), array([[4, 5],\n",
      "       [6, 7]])]\n",
      "[[[0 2]\n",
      "  [1 3]]\n",
      "\n",
      " [[4 6]\n",
      "  [5 7]]]\n"
     ]
    }
   ],
   "source": [
    "import numpy as np\n",
    "print(np.arange(8))\n",
    "a=np.arange(8).reshape(2,2,2)\n",
    "print(a)\n",
    "print(a.reshape(2,4))\n",
    "print(list(a))\n",
    "print(a.transpose(0,2,1)) # 1, 2, 0"
   ]
  }
 ],
 "metadata": {
  "kernelspec": {
   "display_name": "Python 3",
   "language": "python",
   "name": "python3"
  },
  "language_info": {
   "codemirror_mode": {
    "name": "ipython",
    "version": 3
   },
   "file_extension": ".py",
   "mimetype": "text/x-python",
   "name": "python",
   "nbconvert_exporter": "python",
   "pygments_lexer": "ipython3",
   "version": "3.7.4"
  }
 },
 "nbformat": 4,
 "nbformat_minor": 2
}
