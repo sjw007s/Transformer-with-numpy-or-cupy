{
 "cells": [
  {
   "cell_type": "code",
   "execution_count": 13,
   "metadata": {
    "scrolled": false
   },
   "outputs": [
    {
     "name": "stdout",
     "output_type": "stream",
     "text": [
      "input\n",
      "tf.Tensor(\n",
      "[[[ 0.  1.]\n",
      "  [ 2.  3.]\n",
      "  [ 4.  5.]]\n",
      "\n",
      " [[ 6.  7.]\n",
      "  [ 8.  9.]\n",
      "  [10. 11.]]\n",
      "\n",
      " [[12. 13.]\n",
      "  [14. 15.]\n",
      "  [16. 17.]]\n",
      "\n",
      " [[18. 19.]\n",
      "  [20. 21.]\n",
      "  [22. 23.]]], shape=(4, 3, 2), dtype=float32)\n",
      "x_kernel_shape (5, 6, 7, 2)\n",
      "[[[-0.09983869  0.1196986 ]\n",
      "  [ 0.00953311 -0.141326  ]\n",
      "  [ 0.03965412  0.02564952]\n",
      "  [-0.02767743 -0.14619054]\n",
      "  [-0.13162328  0.11858912]\n",
      "  [-0.12110876 -0.01289244]]\n",
      "\n",
      " [[ 0.0732338  -0.08781353]\n",
      "  [-0.10009018 -0.10044247]\n",
      "  [ 0.04564823  0.04654509]\n",
      "  [-0.05508351 -0.02642491]\n",
      "  [ 0.06559788 -0.13119934]\n",
      "  [-0.00115722  0.13820441]]\n",
      "\n",
      " [[-0.01880012 -0.029322  ]\n",
      "  [ 0.05729961 -0.05572915]\n",
      "  [-0.1180751  -0.00366293]\n",
      "  [-0.07721225  0.07153495]\n",
      "  [ 0.14271335  0.13773818]\n",
      "  [ 0.0422394  -0.11171082]]\n",
      "\n",
      " [[-0.03273585  0.00369747]\n",
      "  [-0.00540996  0.01318371]\n",
      "  [-0.02321938 -0.05226301]\n",
      "  [ 0.09153588 -0.09140637]\n",
      "  [-0.09514656  0.06691791]\n",
      "  [-0.06186067  0.08842036]]\n",
      "\n",
      " [[-0.12492818 -0.14041954]\n",
      "  [-0.04637683 -0.07089385]\n",
      "  [-0.03567501 -0.06285203]\n",
      "  [-0.14698628  0.09470503]\n",
      "  [-0.01254261 -0.11182906]\n",
      "  [ 0.08090632 -0.04652397]]]\n",
      "y_shape (1, 8, 8, 7)\n",
      "tf.Tensor(\n",
      "[[[  0.1196986    0.01809242  -0.18012401  -0.6584313   -0.08847329\n",
      "    -0.762034    -0.21444239  -0.54889727]\n",
      "  [  0.1510445   -0.87092096  -1.0609951   -2.7986407   -0.723387\n",
      "    -3.164111    -1.077961    -0.6665113 ]\n",
      "  [  0.15340358  -3.0144885   -2.3563473   -5.6049213   -2.0751739\n",
      "    -4.5141506   -0.5226083   -1.0378317 ]\n",
      "  [ -0.09995057  -5.297266    -4.519363    -9.191577    -2.5944695\n",
      "    -5.260137     0.385278    -1.2417253 ]\n",
      "  [ -1.2679884   -5.740145    -7.3977437   -7.2115226   -0.92864084\n",
      "     1.9188448    4.343822     2.375012  ]\n",
      "  [ -2.9727893   -4.3533154   -9.061198    -5.865215    -1.3891716\n",
      "     2.9455867    3.7550375   -0.82940716]\n",
      "  [ -3.8435855   -5.757388    -9.221278    -5.388905    -6.1236954\n",
      "    -2.2484803   -1.601445     1.1763272 ]\n",
      "  [ -4.9166784   -7.6291404  -10.230715    -5.530599    -5.5318856\n",
      "    -3.0823865   -2.2068825    0.70988756]]], shape=(1, 8, 8), dtype=float32)\n"
     ]
    },
    {
     "data": {
      "text/plain": [
       "'\\nwith open(\"temp\",\\'a\\',newline=\\'\\') as aa:\\n    writer = csv.writer(aa, delimiter=\\',\\')\\n    \\n    writer.writerow(\"input\")\\n    for i in inputs:\\n        for j in inputs[i]:\\n            writer.writerow(j)\\n    writer.writerow(\"x_kernel\")\\n    for i in x.get_weights()[0]:\\n        for j in inputs[i]:\\n            writer.writerow(j)\\n    writer.writerow(\"nput\")\\n    writer.writerow(\"input\")\\n    writer.writerow(\"input\")\\n    '"
      ]
     },
     "execution_count": 13,
     "metadata": {},
     "output_type": "execute_result"
    }
   ],
   "source": [
    "import tensorflow as tf\n",
    "from keras.models import Sequential\n",
    "from keras import optimizers\n",
    "from keras.layers import Dense, Activation, Flatten, Conv2D, MaxPooling2D, Conv2DTranspose\n",
    "import numpy as np\n",
    "import cupy as np_\n",
    "import keras\n",
    "import csv\n",
    "#input (batch, rows, cols, channels)\n",
    "#output (batch, new_rows, new_cols, filters)\n",
    "#kernel (height,width,next_che,previ_che)\n",
    "tf.random.set_seed(1)\n",
    "inputs = tf.convert_to_tensor(np.arange(24).reshape((1,4,3,2)).astype(np.float32))\n",
    "x=tf.keras.layers.Conv2DTranspose(filters = 7, kernel_size = (5,6), strides = (1,1), padding = 'valid')\n",
    "y=x(inputs)\n",
    "\"\"\"\n",
    "print(\"input\")\n",
    "print(inputs)\n",
    "print(\"x_kernel_shape\",x.get_weights()[0].shape)\n",
    "print(x.get_weights()[0])\n",
    "print(\"y_shape\",y.shape)\n",
    "print(y)\n",
    "\"\"\"\n",
    "#-----------------\n",
    "print(\"input\")\n",
    "print(inputs[0])\n",
    "print(\"x_kernel_shape\",x.get_weights()[0].shape)\n",
    "print(x.get_weights()[0][:,:,0,:])\n",
    "print(\"y_shape\",y.shape)\n",
    "print(y[:,:,:,0])\n",
    "\"\"\"\n",
    "with open(\"temp\",'a',newline='') as aa:\n",
    "    writer = csv.writer(aa, delimiter=',')\n",
    "    \n",
    "    writer.writerow(\"input\")\n",
    "    for i in inputs:\n",
    "        for j in inputs[i]:\n",
    "            writer.writerow(j)\n",
    "    writer.writerow(\"x_kernel\")\n",
    "    for i in x.get_weights()[0]:\n",
    "        for j in inputs[i]:\n",
    "            writer.writerow(j)\n",
    "    writer.writerow(\"nput\")\n",
    "    writer.writerow(\"input\")\n",
    "    writer.writerow(\"input\")\n",
    "    \"\"\""
   ]
  },
  {
   "cell_type": "code",
   "execution_count": 17,
   "metadata": {},
   "outputs": [
    {
     "name": "stdout",
     "output_type": "stream",
     "text": [
      "[[[ 0  1  2  3]\n",
      "  [ 4  5  6  7]\n",
      "  [ 8  9 10 11]]\n",
      "\n",
      " [[12 13 14 15]\n",
      "  [16 17 18 19]\n",
      "  [20 21 22 23]]]\n",
      "[[ 6  7  8]\n",
      " [ 9 10 11]]\n",
      "(2, 3, 4)\n",
      "(2, 3)\n",
      "[10. 11. 12. 13.]\n"
     ]
    }
   ],
   "source": [
    "def cnn_reg_alloc_batch_normal_layer(self, input_shape, hconfig):\n",
    "    pm = {}\n",
    "    rescale = get_conf_param(hconfig, 'rescale', True)\n",
    "    pm['epsilon'] = get_conf_param(hconfig, 'epsilon', 1e-10)\n",
    "    pm['exp_ratio'] = get_conf_param(hconfig, 'exp_ratio', 0.001)\n",
    "    #print(\"오ㅓ잉\",input_shape)\n",
    "    bn_dim = input_shape\n",
    "    #print(\"악\",bn_dim)\n",
    "    pm['mavg'] = np.zeros(bn_dim, dtype = 'float32')\n",
    "    pm['mvar'] = np.ones(bn_dim, dtype = 'float32')\n",
    "    if rescale:\n",
    "        pm['scale'] = np.ones(bn_dim, dtype = 'float32')\n",
    "        pm['shift'] = np.zeros(bn_dim, dtype = 'float32')\n",
    "    return pm, input_shape\n",
    "    \n",
    "def cnn_reg_forward_batch_normal_layer(self, x, hconfig, pm):\n",
    "    x_shape=tuple(x.shape[1:])\n",
    "    if self.is_training:\n",
    "        x_flat = x.reshape([x.shape[0], -1])\n",
    "        avg = np.mean(x_flat, axis=0).reshape(x_shape)\n",
    "        var = np.var(x_flat, axis=0).reshape(x_shape)\n",
    "        #print(avg.shape,var.shape)\n",
    "        #print(pm['mavg'].shape)\n",
    "        #print(pm['exp_ratio'])\n",
    "        #print(avg.shape)\n",
    "        #print(pm['mavg'].shape)\n",
    "        pm['mavg'] += pm['exp_ratio'] * (avg - pm['mavg'])\n",
    "        pm['mvar'] += pm['exp_ratio'] * (var - pm['mvar'])\n",
    "    else:\n",
    "        avg = pm['mavg']\n",
    "        var = pm['mvar']\n",
    "    std = np.sqrt(var + pm['epsilon'])\n",
    "    #print(type(std))\n",
    "    y = norm_x = (x - avg) / std\n",
    "    if 'scale' in pm:\n",
    "        y = pm['scale'] * norm_x + pm['shift']\n",
    "    return y, [norm_x, std]\n",
    "\n",
    "def cnn_reg_backprop_batch_normal_layer(self, G_y, hconfig, pm, aux):\n",
    "    #print(\"종우\")\n",
    "    norm_x, std = aux\n",
    "    #print(G_y.shape)\n",
    "    if 'scale' in pm:\n",
    "        if len(G_y.shape) == 2: axis = 0\n",
    "        else: axis = 0\n",
    "        G_scale = np.sum(G_y*norm_x, axis=axis)\n",
    "        G_shift = np.sum(G_y, axis=axis)\n",
    "        G_y = G_y * pm['scale']\n",
    "        pm['scale'] -= self.learning_rate * G_scale\n",
    "        pm['shift'] -= self.learning_rate * G_shift\n",
    "    \n",
    "    G_input = G_y / std\n",
    "    return G_input\n",
    "    \n",
    "CnnRegModel.alloc_batch_normal_layer = cnn_reg_alloc_batch_normal_layer\n",
    "CnnRegModel.forward_batch_normal_layer = cnn_reg_forward_batch_normal_layer\n",
    "CnnRegModel.backprop_batch_normal_layer = cnn_reg_backprop_batch_normal_layer\n"
   ]
  },
  {
   "cell_type": "code",
   "execution_count": 5,
   "metadata": {},
   "outputs": [
    {
     "name": "stdout",
     "output_type": "stream",
     "text": [
      "6\n"
     ]
    }
   ],
   "source": [
    "import numpy as np\n",
    "a=list([[1,2,3],[4,5,6]])\n",
    "\n",
    "print(a[1][2])"
   ]
  },
  {
   "cell_type": "code",
   "execution_count": 3,
   "metadata": {},
   "outputs": [
    {
     "name": "stdout",
     "output_type": "stream",
     "text": [
      "5\n"
     ]
    }
   ],
   "source": [
    "a=({\"te\":5})\n",
    "print(a[\"te\"])"
   ]
  },
  {
   "cell_type": "code",
   "execution_count": 12,
   "metadata": {},
   "outputs": [
    {
     "name": "stdout",
     "output_type": "stream",
     "text": [
      "[[[ 1  2  3]\n",
      "  [ 4  5  6]]\n",
      "\n",
      " [[ 7  8  9]\n",
      "  [10 11 12]]]\n",
      "[[1 4]\n",
      " [2 5]\n",
      " [3 6]]\n",
      "[[ 1  7]\n",
      " [ 4 10]]\n"
     ]
    }
   ],
   "source": [
    "import cupy as np\n",
    "\n",
    "a=np.array([[[1,2,3],[4, 5, 6]],[[7,8,9],[10,11,12]]])\n",
    "b=np.array([[1,2],[3,4]])\n",
    "#a_=np.sum(a,axis=(1,2))\n",
    "print(a)\n",
    "print(a[0].transpose())\n",
    "print(a.transpose()[0])\n",
    "#print(np.matmul(a,b))\n",
    "#print(np.matmul(np.reshape(a,(-1,a.shape[-1])),b))"
   ]
  },
  {
   "cell_type": "code",
   "execution_count": null,
   "metadata": {},
   "outputs": [],
   "source": []
  }
 ],
 "metadata": {
  "kernelspec": {
   "display_name": "Python 3",
   "language": "python",
   "name": "python3"
  },
  "language_info": {
   "codemirror_mode": {
    "name": "ipython",
    "version": 3
   },
   "file_extension": ".py",
   "mimetype": "text/x-python",
   "name": "python",
   "nbconvert_exporter": "python",
   "pygments_lexer": "ipython3",
   "version": "3.7.4"
  }
 },
 "nbformat": 4,
 "nbformat_minor": 2
}
