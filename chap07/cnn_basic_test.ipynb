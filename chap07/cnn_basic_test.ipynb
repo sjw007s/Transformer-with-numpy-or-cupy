{
 "cells": [
  {
   "cell_type": "code",
   "execution_count": 1,
   "metadata": {},
   "outputs": [],
   "source": [
    "%run ../chap07/cnn_basic_model.ipynb\n",
    "%run ../chap05/dataset_flowers.ipynb\n",
    "%run ../chap06/dataset_office31.ipynb"
   ]
  },
  {
   "cell_type": "code",
   "execution_count": 2,
   "metadata": {},
   "outputs": [
    {
     "ename": "FileNotFoundError",
     "evalue": "[WinError 3] 지정된 경로를 찾을 수 없습니다: '../../data/chap05/flowers'",
     "output_type": "error",
     "traceback": [
      "\u001b[1;31m---------------------------------------------------------------------------\u001b[0m",
      "\u001b[1;31mFileNotFoundError\u001b[0m                         Traceback (most recent call last)",
      "\u001b[1;32m<ipython-input-2-c0a80bcfade8>\u001b[0m in \u001b[0;36m<module>\u001b[1;34m\u001b[0m\n\u001b[1;32m----> 1\u001b[1;33m \u001b[0mfd\u001b[0m \u001b[1;33m=\u001b[0m \u001b[0mFlowersDataset\u001b[0m\u001b[1;33m(\u001b[0m\u001b[1;33m[\u001b[0m\u001b[1;36m96\u001b[0m\u001b[1;33m,\u001b[0m \u001b[1;36m96\u001b[0m\u001b[1;33m]\u001b[0m\u001b[1;33m,\u001b[0m \u001b[1;33m[\u001b[0m\u001b[1;36m96\u001b[0m\u001b[1;33m,\u001b[0m \u001b[1;36m96\u001b[0m\u001b[1;33m,\u001b[0m \u001b[1;36m3\u001b[0m\u001b[1;33m]\u001b[0m\u001b[1;33m)\u001b[0m\u001b[1;33m\u001b[0m\u001b[1;33m\u001b[0m\u001b[0m\n\u001b[0m\u001b[0;32m      2\u001b[0m \u001b[0mod\u001b[0m \u001b[1;33m=\u001b[0m \u001b[0mOffice31Dataset\u001b[0m\u001b[1;33m(\u001b[0m\u001b[1;33m[\u001b[0m\u001b[1;36m96\u001b[0m\u001b[1;33m,\u001b[0m \u001b[1;36m96\u001b[0m\u001b[1;33m]\u001b[0m\u001b[1;33m,\u001b[0m \u001b[1;33m[\u001b[0m\u001b[1;36m96\u001b[0m\u001b[1;33m,\u001b[0m \u001b[1;36m96\u001b[0m\u001b[1;33m,\u001b[0m \u001b[1;36m3\u001b[0m\u001b[1;33m]\u001b[0m\u001b[1;33m)\u001b[0m\u001b[1;33m\u001b[0m\u001b[1;33m\u001b[0m\u001b[0m\n",
      "\u001b[1;32m<ipython-input-1-a92184dae793>\u001b[0m in \u001b[0;36mflowers_init\u001b[1;34m(self, resolution, input_shape)\u001b[0m\n\u001b[0;32m      3\u001b[0m \u001b[1;33m\u001b[0m\u001b[0m\n\u001b[0;32m      4\u001b[0m     \u001b[0mpath\u001b[0m \u001b[1;33m=\u001b[0m \u001b[1;34m'../../data/chap05/flowers'\u001b[0m\u001b[1;33m\u001b[0m\u001b[1;33m\u001b[0m\u001b[0m\n\u001b[1;32m----> 5\u001b[1;33m     \u001b[0mself\u001b[0m\u001b[1;33m.\u001b[0m\u001b[0mtarget_names\u001b[0m \u001b[1;33m=\u001b[0m \u001b[0mlist_dir\u001b[0m\u001b[1;33m(\u001b[0m\u001b[0mpath\u001b[0m\u001b[1;33m)\u001b[0m\u001b[1;33m\u001b[0m\u001b[1;33m\u001b[0m\u001b[0m\n\u001b[0m\u001b[0;32m      6\u001b[0m \u001b[1;33m\u001b[0m\u001b[0m\n\u001b[0;32m      7\u001b[0m     \u001b[0mimages\u001b[0m \u001b[1;33m=\u001b[0m \u001b[1;33m[\u001b[0m\u001b[1;33m]\u001b[0m\u001b[1;33m\u001b[0m\u001b[1;33m\u001b[0m\u001b[0m\n",
      "\u001b[1;32m<ipython-input-1-a395de8053af>\u001b[0m in \u001b[0;36mlist_dir\u001b[1;34m(path)\u001b[0m\n\u001b[0;32m      1\u001b[0m \u001b[1;32mdef\u001b[0m \u001b[0mlist_dir\u001b[0m\u001b[1;33m(\u001b[0m\u001b[0mpath\u001b[0m\u001b[1;33m)\u001b[0m\u001b[1;33m:\u001b[0m\u001b[1;33m\u001b[0m\u001b[1;33m\u001b[0m\u001b[0m\n\u001b[1;32m----> 2\u001b[1;33m     \u001b[0mfilenames\u001b[0m \u001b[1;33m=\u001b[0m \u001b[0mos\u001b[0m\u001b[1;33m.\u001b[0m\u001b[0mlistdir\u001b[0m\u001b[1;33m(\u001b[0m\u001b[0mpath\u001b[0m\u001b[1;33m)\u001b[0m\u001b[1;33m\u001b[0m\u001b[1;33m\u001b[0m\u001b[0m\n\u001b[0m\u001b[0;32m      3\u001b[0m     \u001b[0mfilenames\u001b[0m\u001b[1;33m.\u001b[0m\u001b[0msort\u001b[0m\u001b[1;33m(\u001b[0m\u001b[1;33m)\u001b[0m\u001b[1;33m\u001b[0m\u001b[1;33m\u001b[0m\u001b[0m\n\u001b[0;32m      4\u001b[0m     \u001b[1;32mreturn\u001b[0m \u001b[0mfilenames\u001b[0m\u001b[1;33m\u001b[0m\u001b[1;33m\u001b[0m\u001b[0m\n",
      "\u001b[1;31mFileNotFoundError\u001b[0m: [WinError 3] 지정된 경로를 찾을 수 없습니다: '../../data/chap05/flowers'"
     ]
    }
   ],
   "source": [
    "fd = FlowersDataset([96, 96], [96, 96, 3])\n",
    "od = Office31Dataset([96, 96], [96, 96, 3])"
   ]
  },
  {
   "cell_type": "code",
   "execution_count": null,
   "metadata": {},
   "outputs": [],
   "source": [
    "fm1 = CnnBasicModel('flowers_model_1', fd, [30, 10])\n",
    "fm1.exec_all(epoch_count = 10, report = 2)"
   ]
  },
  {
   "cell_type": "code",
   "execution_count": null,
   "metadata": {
    "scrolled": false
   },
   "outputs": [],
   "source": [
    "fm2 = CnnBasicModel('flowers_model_2', fd, \n",
    "                    [['full', {'width':30}], \n",
    "                     ['full', {'width':10}]])\n",
    "fm2.use_adam = False\n",
    "fm2.exec_all(epoch_count = 10, report = 2)"
   ]
  },
  {
   "cell_type": "code",
   "execution_count": null,
   "metadata": {},
   "outputs": [],
   "source": [
    "fm3 = CnnBasicModel('flowers_model_3', fd, \n",
    "               [['conv', {'ksize':5, 'chn':6}], \n",
    "                ['max', {'stride':4}], \n",
    "                ['conv', {'ksize':3, 'chn':12}], \n",
    "                ['avg', {'stride':2}]], \n",
    "               True)\n",
    "fm3.exec_all(epoch_count = 10, report = 2)"
   ]
  },
  {
   "cell_type": "code",
   "execution_count": null,
   "metadata": {},
   "outputs": [],
   "source": [
    "fm4 = CnnBasicModel('flowers_model_4', fd, \n",
    "               [['conv', {'ksize':3, 'chn':6}], \n",
    "                ['max', {'stride':2}], \n",
    "                ['conv', {'ksize':3, 'chn':12}], \n",
    "                ['max', {'stride':2}], \n",
    "                ['conv', {'ksize':3, 'chn':24}], \n",
    "                ['avg', {'stride':3}]])\n",
    "fm4.exec_all(epoch_count = 10, report = 2)"
   ]
  },
  {
   "cell_type": "code",
   "execution_count": null,
   "metadata": {},
   "outputs": [],
   "source": [
    "om1 = CnnBasicModel('office31_model_1', od, \n",
    "               [['conv', {'ksize':3, 'chn':6}], \n",
    "                ['max', {'stride':2}], \n",
    "                ['conv', {'ksize':3, 'chn':12}], \n",
    "                ['max', {'stride':2}], \n",
    "                ['conv', {'ksize':3, 'chn':24}], \n",
    "                ['avg', {'stride':3}]])\n",
    "om1.exec_all(epoch_count = 10, report = 2)"
   ]
  },
  {
   "cell_type": "code",
   "execution_count": null,
   "metadata": {},
   "outputs": [],
   "source": [
    "om1.exec_all(epoch_count = 40, show_cnt = 0)"
   ]
  },
  {
   "cell_type": "code",
   "execution_count": null,
   "metadata": {},
   "outputs": [],
   "source": [
    "om2 = CnnBasicModel('office31_model_2', od, \n",
    "               [['conv', {'ksize':3, 'chn':6, 'actfunc':'sigmoid'}], \n",
    "                ['max', {'stride':2}], \n",
    "                ['conv', {'ksize':3, 'chn':12, 'actfunc':'sigmoid'}], \n",
    "                ['max', {'stride':2}], \n",
    "                ['conv', {'ksize':3, 'chn':24, 'actfunc':'sigmoid'}], \n",
    "                ['avg', {'stride':3}]])\n",
    "om2.exec_all(epoch_count = 10, report = 2)"
   ]
  },
  {
   "cell_type": "code",
   "execution_count": null,
   "metadata": {},
   "outputs": [],
   "source": [
    "om3 = CnnBasicModel('office31_model_3', od, \n",
    "               [['conv', {'ksize':3, 'chn':6, 'actfunc':'tanh'}], \n",
    "                ['max', {'stride':2}], \n",
    "                ['conv', {'ksize':3, 'chn':12, 'actfunc':'tanh'}], \n",
    "                ['max', {'stride':2}], \n",
    "                ['conv', {'ksize':3, 'chn':24, 'actfunc':'tanh'}], \n",
    "                ['avg', {'stride':3}]])\n",
    "om3.exec_all(epoch_count = 10, report = 2)"
   ]
  }
 ],
 "metadata": {
  "kernelspec": {
   "display_name": "Python 3",
   "language": "python",
   "name": "python3"
  },
  "language_info": {
   "codemirror_mode": {
    "name": "ipython",
    "version": 3
   },
   "file_extension": ".py",
   "mimetype": "text/x-python",
   "name": "python",
   "nbconvert_exporter": "python",
   "pygments_lexer": "ipython3",
   "version": "3.7.4"
  }
 },
 "nbformat": 4,
 "nbformat_minor": 2
}
