{
 "cells": [
  {
   "cell_type": "code",
   "execution_count": 3,
   "metadata": {},
   "outputs": [
    {
     "name": "stdout",
     "output_type": "stream",
     "text": [
      "[[[3 1 4]]\n",
      "\n",
      " [[2 3 4]]]\n",
      "[[[30 10]\n",
      "  [40 20]\n",
      "  [30 40]]]\n"
     ]
    }
   ],
   "source": [
    "import cupy as np\n",
    "a_=np.array([[[3,1],[4,2],[3,4]]])\n",
    "\n",
    "b_=np.array([[5,6],[7,8]])\n",
    "#print(b_.shape[1])\n",
    "#np.concatenate((a_,b_),axis=1)\n",
    "print(a_.reshape([-1,1,3]))\n",
    "a__=list([1,2])\n",
    "print(10*a_)\n"
   ]
  }
 ],
 "metadata": {
  "kernelspec": {
   "display_name": "Python 3",
   "language": "python",
   "name": "python3"
  },
  "language_info": {
   "codemirror_mode": {
    "name": "ipython",
    "version": 3
   },
   "file_extension": ".py",
   "mimetype": "text/x-python",
   "name": "python",
   "nbconvert_exporter": "python",
   "pygments_lexer": "ipython3",
   "version": "3.7.4"
  }
 },
 "nbformat": 4,
 "nbformat_minor": 2
}
